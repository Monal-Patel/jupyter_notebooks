{
 "cells": [
  {
   "cell_type": "markdown",
   "metadata": {},
   "source": [
    "## Compressible boundary layer similar solutions\n",
    "---\n",
    "### Problem: 2D compressible boundary layer equations\n",
    "> Conservation of mass, $x$ momentum , $y$ momentum and energy:\n",
    "> $\\begin{pmatrix} \n",
    "\\frac{\\partial \\rho u}{\\partial x} + \\frac{\\partial \\rho v}{ \\partial y} \\\\\n",
    "\\rho u \\frac{\\partial u}{\\partial x} + \\rho v \\frac{\\partial u}{\\partial y} - \\frac{d p_e}{dx} - \\frac{\\partial }{\\partial y}\\big ( \\mu \\frac{\\partial u}{\\partial y} \\big) \\\\\n",
    "\\frac{\\partial p}{\\partial y} \\\\\n",
    "\\rho u \\frac{\\partial h}{\\partial x} + \\rho v \\frac{\\partial h}{\\partial y} - \\frac{\\partial }{\\partial y} \\big (k \\frac{\\partial T}{\\partial y} \\big) -  u \\frac{d p_e}{dx} - \\mu \\big( \\frac{\\partial u}{\\partial y}\\big)^2\n",
    "\\end{pmatrix} = \\boldsymbol{0}$\n",
    "> The problem is commonly found in textbooks [1-3]. Although current system is non-reactive, [1-2] also consider reacting flow.\n",
    ">\n",
    "> Applying similarity transformation without any further assumptions leads to (See [1] Section 6.5):\n",
    "> $\\begin{pmatrix}\n",
    "\\big(Cf^{''} \\big)^{'} + ff^{''} -  \n",
    "\\frac{2\\xi}{u_e} \\bigg( (f^{'})^2 - \\frac{\\rho_e}{\\rho}   \\bigg) \\frac{du_e}{d\\xi} - 2\\xi\\bigg( f^{'} \\frac{\\partial f^{'}}{\\partial \\xi} - f^{''} \\frac{\\partial f}{\\partial \\xi}\\bigg)\\\\\n",
    "\\frac{\\partial p}{\\partial \\eta} \\\\\n",
    "\\bigg( \\frac{C}{Pr}g^{'} \\bigg)^{'} + fg^{'} - 2\\xi \\bigg( f^{'}\\frac{\\partial g}{\\partial \\xi} + \\frac{f^{'}g}{h_e} \\frac{\\partial f}{\\partial \\xi} - g^{'} \\frac{\\partial f}{\\partial \\xi} + \\frac{\\rho_e u_e}{\\rho h_e} f^{'} \\frac{du_e}{d \\xi} \\bigg) + C\\frac{u_{e}^2}{h_e} (f^{''})^{2}\n",
    "\\end{pmatrix} = \\boldsymbol{0} $\n",
    ">\n",
    "> Where:\n",
    "> - Subscript ($_e$) represents boundary layer edge state.\n",
    ">\n",
    "> - $\\xi \\equiv \\int_{0}^{x} \\rho_{e} u_{e} \\mu_{e} dx_{1}$ and $\\eta \\equiv \\frac{u_e}{\\sqrt{2\\xi}}\\int_{0}^{y} \\rho dy_1$\n",
    "> ($x_1$ and $y_1$ are dummy integration variables).\n",
    "> - $f^{'}$ is the nondimensional velocity field in transformed coordinates,\n",
    "> \n",
    "> &emsp;&emsp; $f^{'} \\equiv \\frac{\\partial f(\\xi,\\eta)}{\\partial \\eta} = \\frac{u(\\xi ,\\eta)}{u_e(\\xi)}.$\n",
    "> - $g is just the nondimensional static enthalpy,\n",
    "> \n",
    "> &emsp;&emsp; $g \\equiv \\frac{h(\\xi,\\eta)}{h_{e}(\\xi)}.$ \n",
    "> \n",
    "> -  C is Chapman-Rubesin factor, it accounts for transport property variation, \n",
    ">\n",
    "> &emsp;&emsp; $C \\equiv \\frac{\\rho u }{\\rho_e u_e}.$\n",
    ">\n",
    "---\n",
    "#### Specific case: Flat plate\n",
    "> Considering a specific case and applying boundary conditions can further simplify the problem, converting the two PDEs to ODEs. There are few other cases which also other similar simplifications, [1-3] consider a range of boundary conditions, stagnation point flow and axis-symmeteric and inclined boundary layers. However, here only a flat plate is considered.\n",
    "> \n",
    "> \n",
    "> - Assumption: Boundary layer is fully developed, so $u_{e}, \\rho_e, h_e $ are constants  $\\rightarrow \\frac{\\partial ()}{\\partial \\xi} = 0$.\n",
    "> \n",
    "> &emsp;&emsp;  $\\rightarrow f^{'} \\equiv \\frac{d f(\\eta)}{d \\eta} = \\frac{u(\\eta)}{u_e}$\n",
    "> \n",
    "> &emsp;&emsp;  $\\rightarrow g \\equiv \\frac{h(\\eta)}{h_{e}}.$ \n",
    ">\n",
    "> - Boundary conditions :\n",
    ">   - No slip - $f^{'}(0) = 0 ; f(0) = 0$\n",
    ">   - If adiabatic wall $\\frac{\\partial T}{\\partial y} = 0  \\rightarrow g^{'}(0) = 0$. If constant wall temperature, $g(0) = g_w$.\n",
    ">   - $g(\\eta \\rightarrow \\infty) = 1$  $f^{'}(\\eta \\rightarrow \\infty ) = 1$.\n",
    ">\n",
    "> $\\begin{pmatrix}  \\big(Cf^{''} \\big)^{'} + ff^{''} \\\\ \\bigg( \\frac{C}{Pr}g^{'} \\bigg)^{'} + fg^{'}  + C\\frac{u_{e}^2}{h_e} (f^{''})^{2} \\end{pmatrix} = \\boldsymbol{0} $\n",
    "> \n",
    ">\n",
    "---\n",
    "> References:\n",
    ">\n",
    "> [1] Anderson, John David. Hypersonic and high temperature gas dynamics. AIAA, 2000.\n",
    ">\n",
    "> [2] Hayes, Wallace. Hypersonic flow theory. Elsevier, 2012.\n",
    ">\n",
    "> [3] White, Frank M. \"Viscous Flow Theory.\" (1974)."
   ]
  },
  {
   "cell_type": "markdown",
   "metadata": {},
   "source": [
    "### Solution\n",
    "\n",
    "---\n",
    "\n",
    "#### Discretisation\n",
    "\n"
   ]
  },
  {
   "cell_type": "code",
   "execution_count": 4,
   "metadata": {},
   "outputs": [],
   "source": [
    "## Load libs\n",
    "import numpy as np\n",
    "import plotly as plty"
   ]
  },
  {
   "cell_type": "code",
   "execution_count": null,
   "metadata": {},
   "outputs": [],
   "source": []
  },
  {
   "cell_type": "code",
   "execution_count": null,
   "metadata": {},
   "outputs": [],
   "source": []
  }
 ],
 "metadata": {
  "kernelspec": {
   "display_name": "Python 3 (ipykernel)",
   "language": "python",
   "name": "python3"
  },
  "language_info": {
   "codemirror_mode": {
    "name": "ipython",
    "version": 3
   },
   "file_extension": ".py",
   "mimetype": "text/x-python",
   "name": "python",
   "nbconvert_exporter": "python",
   "pygments_lexer": "ipython3",
   "version": "3.8.10"
  }
 },
 "nbformat": 4,
 "nbformat_minor": 2
}
